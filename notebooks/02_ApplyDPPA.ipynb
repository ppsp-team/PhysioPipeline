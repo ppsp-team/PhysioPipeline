{
 "cells": [
  {
   "cell_type": "code",
   "execution_count": 1,
   "id": "41a44d3c-2688-4766-896e-fc40a8388880",
   "metadata": {},
   "outputs": [],
   "source": [
    "import sys\n",
    "sys.path.append('../src/')\n",
    "\n",
    "import warnings\n",
    "#warnings.filterwarnings('ignore')  # Suppress warnings for cleaner output\n",
    "\n",
    "import os\n",
    "from pathlib import Path\n",
    "import json\n",
    "import pickle\n",
    "\n",
    "from session import Session\n",
    "from dppa import DPPA\n",
    "from helpers import *"
   ]
  },
  {
   "cell_type": "code",
   "execution_count": 2,
   "id": "7a45c8e7-0234-4bd7-a67d-9a5615bc915b",
   "metadata": {},
   "outputs": [
    {
     "name": "stdout",
     "output_type": "stream",
     "text": [
      "Session loaded from ../data/output/processed/session_0_family_4_seance_1.pkl\n",
      "Signal epoched for subject 0: True\n",
      "Signal epoched for subject 1: True\n",
      "Signal epoched for subject 2: True\n"
     ]
    }
   ],
   "source": [
    "FAMILY_ID = 4\n",
    "SEANCE_ID = 1\n",
    "SESSION_ID = 0\n",
    "session_pathname = Path(f\"../data/output/processed/session_{SESSION_ID}_family_{FAMILY_ID}_seance_{SEANCE_ID}.pkl\")\n",
    "\n",
    "with open(session_pathname, \"rb\") as f:\n",
    "    session = pickle.load(f)\n",
    "print(f\"Session loaded from {session_pathname}\")\n",
    "\n",
    "for pr in session.physio_recordings:\n",
    "    print(f\"Signal epoched for subject {pr.subject_id}: {pr.data_epoched}\")"
   ]
  },
  {
   "cell_type": "code",
   "execution_count": 3,
   "id": "4bfec916-4dbf-448d-937f-e6db2ad7159e",
   "metadata": {},
   "outputs": [
    {
     "name": "stdout",
     "output_type": "stream",
     "text": [
      "Loaded RR intervals epochs for subject 0\n",
      "\tLoaded 1 epochs for resting state\n",
      "\tLoaded 165 epochs for session\n",
      "Loaded RR intervals epochs for subject 1\n",
      "\tLoaded 1 epochs for resting state\n",
      "\tLoaded 165 epochs for session\n",
      "Loaded RR intervals epochs for subject 2\n",
      "\tLoaded 1 epochs for resting state\n",
      "\tLoaded 165 epochs for session\n"
     ]
    }
   ],
   "source": [
    "dppa = DPPA()\n",
    "dppa.set_session(session)\n",
    "\n",
    "for pr in session.physio_recordings:\n",
    "    print(f\"Loaded RR intervals epochs for subject {pr.subject_id}\")\n",
    "    print(f\"\\tLoaded {len(dppa.features[\"subjects\"][pr.subject_id][\"RR_Intervals\"][\"rs\"])} epochs for resting state\")\n",
    "    print(f\"\\tLoaded {len(dppa.features[\"subjects\"][pr.subject_id][\"RR_Intervals\"][\"session\"])} epochs for session\")"
   ]
  },
  {
   "cell_type": "code",
   "execution_count": 4,
   "id": "25a55a32-19ae-4ef3-88f6-0495fdb4f5f3",
   "metadata": {},
   "outputs": [
    {
     "name": "stdout",
     "output_type": "stream",
     "text": [
      "Computed centroids, sd1, sd2 and sd1/sd2 for subject 0\n",
      "\tComputed 166 centroids for rs + session\n",
      "\tComputed 166 SD1 for rs + session\n",
      "\tComputed 166 SD2 for rs + session\n",
      "\tComputed 166 SD1/SD2 for rs + session\n",
      "Computed centroids, sd1, sd2 and sd1/sd2 for subject 1\n",
      "\tComputed 166 centroids for rs + session\n",
      "\tComputed 166 SD1 for rs + session\n",
      "\tComputed 166 SD2 for rs + session\n",
      "\tComputed 166 SD1/SD2 for rs + session\n",
      "Computed centroids, sd1, sd2 and sd1/sd2 for subject 2\n",
      "\tComputed 166 centroids for rs + session\n",
      "\tComputed 166 SD1 for rs + session\n",
      "\tComputed 166 SD2 for rs + session\n",
      "\tComputed 166 SD1/SD2 for rs + session\n"
     ]
    }
   ],
   "source": [
    "dppa.compute_individual_features()\n",
    "\n",
    "for pr in session.physio_recordings:\n",
    "    print(f\"Computed centroids, sd1, sd2 and sd1/sd2 for subject {pr.subject_id}\")\n",
    "    print(f\"\\tComputed {len(dppa.features[\"subjects\"][pr.subject_id][\"Centroid\"][\"session\"]) + 1} centroids for rs + session\")\n",
    "    print(f\"\\tComputed {len(dppa.features[\"subjects\"][pr.subject_id][\"SD1\"][\"session\"]) + 1} SD1 for rs + session\")\n",
    "    print(f\"\\tComputed {len(dppa.features[\"subjects\"][pr.subject_id][\"SD2\"][\"session\"]) + 1} SD2 for rs + session\")\n",
    "    print(f\"\\tComputed {len(dppa.features[\"subjects\"][pr.subject_id][\"SD1_SD2_Ratio\"][\"session\"]) + 1} SD1/SD2 for rs + session\")"
   ]
  },
  {
   "cell_type": "code",
   "execution_count": 8,
   "id": "7d4ae1c8-8383-4564-a1c9-14e98d48d024",
   "metadata": {},
   "outputs": [
    {
     "name": "stdout",
     "output_type": "stream",
     "text": [
      "Computed ICD for dyad 0_1 of subjects 0 and 1\n",
      "\tComputed 166 ICD for rs + session\n",
      "Computed ICD for dyad 0_2 of subjects 0 and 2\n",
      "\tComputed 166 ICD for rs + session\n",
      "Computed ICD for dyad 1_2 of subjects 1 and 2\n",
      "\tComputed 166 ICD for rs + session\n"
     ]
    }
   ],
   "source": [
    "dppa.compute_icd()\n",
    "\n",
    "for pr1 in session.physio_recordings:\n",
    "    for pr2 in session.physio_recordings:\n",
    "        if pr1.subject_id < pr2.subject_id:\n",
    "            dyad_key = f\"{pr1.subject_id}_{pr2.subject_id}\"\n",
    "            print(f\"Computed ICD for dyad {dyad_key} of subjects {pr1.subject_id} and {pr2.subject_id}\")\n",
    "            print(f\"\\tComputed {len(dppa.features[\"dyads\"][dyad_key][\"ICD\"][\"session\"]) + 1} ICD for rs + session\")"
   ]
  },
  {
   "cell_type": "code",
   "execution_count": null,
   "id": "2fb88e65-0af8-4131-b65e-9d256e691b1b",
   "metadata": {},
   "outputs": [],
   "source": [
    "dppa_pathname = Path(f\"../data/output/dppa/session_{SESSION_ID}_family_{FAMILY_ID}_seance_{SEANCE_ID}.pkl\")\n",
    "if not dppa_pathname.parent.exists():\n",
    "    os.makedirs(dppa_pathname.parent)\n",
    "\n",
    "with open(dppa_pathname, \"wb\") as f:\n",
    "    pickle.dump(dppa, f)\n",
    "print(f\"DPPA saved to {dppa_pathname}\")"
   ]
  }
 ],
 "metadata": {
  "kernelspec": {
   "display_name": "Python 3 (ipykernel)",
   "language": "python",
   "name": "python3"
  },
  "language_info": {
   "codemirror_mode": {
    "name": "ipython",
    "version": 3
   },
   "file_extension": ".py",
   "mimetype": "text/x-python",
   "name": "python",
   "nbconvert_exporter": "python",
   "pygments_lexer": "ipython3",
   "version": "3.12.9"
  }
 },
 "nbformat": 4,
 "nbformat_minor": 5
}
