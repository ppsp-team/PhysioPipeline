{
 "cells": [
  {
   "cell_type": "code",
   "execution_count": 1,
   "id": "41a44d3c-2688-4766-896e-fc40a8388880",
   "metadata": {},
   "outputs": [],
   "source": [
    "import sys\n",
    "sys.path.append('../src/')\n",
    "\n",
    "import warnings\n",
    "#warnings.filterwarnings('ignore')  # Suppress warnings for cleaner output\n",
    "\n",
    "import os\n",
    "from pathlib import Path\n",
    "import json\n",
    "import pickle\n",
    "\n",
    "from session import Session\n",
    "from dppa import DPPA\n",
    "from helpers import *"
   ]
  },
  {
   "cell_type": "code",
   "execution_count": 2,
   "id": "7a45c8e7-0234-4bd7-a67d-9a5615bc915b",
   "metadata": {},
   "outputs": [
    {
     "name": "stdout",
     "output_type": "stream",
     "text": [
      "Session loaded from ../data/output/processed/session_0_family_4_seance_1.pkl\n",
      "Signal epoched for subject 0: True\n",
      "Signal epoched for subject 1: True\n",
      "Signal epoched for subject 2: True\n"
     ]
    }
   ],
   "source": [
    "FAMILY_ID = 4\n",
    "SEANCE_ID = 1\n",
    "SESSION_ID = 0\n",
    "session_pathname = Path(f\"../data/output/processed/session_{SESSION_ID}_family_{FAMILY_ID}_seance_{SEANCE_ID}.pkl\")\n",
    "\n",
    "with open(session_pathname, \"rb\") as f:\n",
    "    session = pickle.load(f)\n",
    "print(f\"Session loaded from {session_pathname}\")\n",
    "\n",
    "for pr in session.physio_recordings:\n",
    "    print(f\"Signal epoched for subject {pr.subject_id}: {pr.data_epoched}\")"
   ]
  },
  {
   "cell_type": "code",
   "execution_count": 3,
   "id": "4bfec916-4dbf-448d-937f-e6db2ad7159e",
   "metadata": {},
   "outputs": [
    {
     "name": "stdout",
     "output_type": "stream",
     "text": [
      "DPPA initialized. Ready to set session and compute features.\n",
      "Session 0 set with 3 physio recordings. Features initialized.\n"
     ]
    }
   ],
   "source": [
    "dppa = DPPA()\n",
    "dppa.set_session(session)"
   ]
  },
  {
   "cell_type": "code",
   "execution_count": 4,
   "id": "6d789528-1a05-4c56-875e-e003c95d2228",
   "metadata": {},
   "outputs": [
    {
     "name": "stdout",
     "output_type": "stream",
     "text": [
      "Loaded RR intervals epochs for subject 0\n",
      "\tLoaded 1 epochs for resting state\n",
      "\tLoaded 165 epochs for session\n",
      "Loaded RR intervals epochs for subject 1\n",
      "\tLoaded 1 epochs for resting state\n",
      "\tLoaded 165 epochs for session\n",
      "Loaded RR intervals epochs for subject 2\n",
      "\tLoaded 1 epochs for resting state\n",
      "\tLoaded 165 epochs for session\n"
     ]
    }
   ],
   "source": [
    "for pr in session.physio_recordings:\n",
    "    print(f\"Loaded RR intervals epochs for subject {pr.subject_id}\")\n",
    "    print(f\"\\tLoaded {len(dppa.features[\"subjects\"][pr.subject_id][\"RR_Intervals\"][\"rs\"])} epochs for resting state\")\n",
    "    print(f\"\\tLoaded {len(dppa.features[\"subjects\"][pr.subject_id][\"RR_Intervals\"][\"session\"])} epochs for session\")"
   ]
  },
  {
   "cell_type": "code",
   "execution_count": 5,
   "id": "25a55a32-19ae-4ef3-88f6-0495fdb4f5f3",
   "metadata": {},
   "outputs": [
    {
     "name": "stdout",
     "output_type": "stream",
     "text": [
      "Running DPPA computation...\n",
      "Computing individual features for each subject...\n",
      "\tComputed features for subject 0: Centroid, SD1, SD2, and SD1/SD2 Ratio.\n",
      "\tComputed features for subject 1: Centroid, SD1, SD2, and SD1/SD2 Ratio.\n",
      "\tComputed features for subject 2: Centroid, SD1, SD2, and SD1/SD2 Ratio.\n",
      "Individual features computed.\n",
      "Computing Inter-Centroid Distances (ICD) for all dyads...\n",
      "\tComputed ICD for dyad (0, 1) in both rs and session steps.\n",
      "\tComputed ICD for dyad (0, 2) in both rs and session steps.\n",
      "\tComputed ICD for dyad (1, 2) in both rs and session steps.\n",
      "ICD computed.\n",
      "DPPA computation completed.\n"
     ]
    }
   ],
   "source": [
    "dppa.run()"
   ]
  },
  {
   "cell_type": "code",
   "execution_count": 6,
   "id": "79d24823-cd4d-40cb-b11b-555bf95bc2ed",
   "metadata": {},
   "outputs": [
    {
     "name": "stdout",
     "output_type": "stream",
     "text": [
      "Computing clusters of subjects based on Centroid features...\n",
      "Clusters computed:\n",
      "\t2-clusters: {'0_1': 0.11515151515151516, '0_2': 0.26666666666666666, '1_2': 0.1393939393939394}\n",
      "\t3-soft-clusters: 0.11515151515151516\n",
      "\t3-strong-clusters: 0.21818181818181817\n"
     ]
    }
   ],
   "source": [
    "dppa.compute_clusters(threshold = 100)"
   ]
  },
  {
   "cell_type": "code",
   "execution_count": 7,
   "id": "2fb88e65-0af8-4131-b65e-9d256e691b1b",
   "metadata": {},
   "outputs": [
    {
     "name": "stdout",
     "output_type": "stream",
     "text": [
      "DPPA saved to ../data/output/dppa/session_0_family_4_seance_1.pkl\n"
     ]
    }
   ],
   "source": [
    "dppa_pathname = Path(f\"../data/output/dppa/session_{SESSION_ID}_family_{FAMILY_ID}_seance_{SEANCE_ID}.pkl\")\n",
    "if not dppa_pathname.parent.exists():\n",
    "    os.makedirs(dppa_pathname.parent)\n",
    "\n",
    "with open(dppa_pathname, \"wb\") as f:\n",
    "    pickle.dump(dppa, f)\n",
    "print(f\"DPPA saved to {dppa_pathname}\")"
   ]
  },
  {
   "cell_type": "code",
   "execution_count": null,
   "id": "ad83e946-cefd-4110-b189-b6c8af014833",
   "metadata": {},
   "outputs": [],
   "source": []
  }
 ],
 "metadata": {
  "kernelspec": {
   "display_name": "Python 3 (ipykernel)",
   "language": "python",
   "name": "python3"
  },
  "language_info": {
   "codemirror_mode": {
    "name": "ipython",
    "version": 3
   },
   "file_extension": ".py",
   "mimetype": "text/x-python",
   "name": "python",
   "nbconvert_exporter": "python",
   "pygments_lexer": "ipython3",
   "version": "3.12.9"
  }
 },
 "nbformat": 4,
 "nbformat_minor": 5
}
