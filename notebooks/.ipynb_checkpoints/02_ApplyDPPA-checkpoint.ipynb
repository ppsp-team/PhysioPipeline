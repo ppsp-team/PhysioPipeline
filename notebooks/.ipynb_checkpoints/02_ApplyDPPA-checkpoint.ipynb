{
 "cells": [
  {
   "cell_type": "markdown",
   "id": "5e745415-b597-4545-b338-34446df266cb",
   "metadata": {
    "vscode": {
     "languageId": "markdown"
    }
   },
   "source": [
    "## Project Overview\n",
    "\n",
    "In this notebook, we are analyzing physiological data from a family therapy session using the DPPA (Dynamic Physiological Pattern Analysis) framework. The objective is to load a previously processed session, apply advanced analysis methods, and save the results for further study.\n",
    "\n",
    "### What are we doing?\n",
    "We are loading a preprocessed session object, initializing the DPPA analysis, running the main DPPA algorithm, computing clusters based on a specified threshold, and saving the resulting DPPA object.\n",
    "\n",
    "### Why are we doing it?\n",
    "Applying DPPA allows us to identify and analyze dynamic patterns and clusters within the physiological data collected during therapy sessions. This helps uncover meaningful physiological synchrony and group dynamics, which can provide valuable insights into participant interactions and emotional states.\n",
    "\n",
    "### How are we doing it?\n",
    "1. **Setup:** Import all necessary modules and helper functions.\n",
    "2. **Session Loading:** Load a preprocessed session object from disk using pickle.\n",
    "3. **DPPA Initialization:** Create a DPPA object and associate it with the loaded session.\n",
    "4. **Analysis Execution:** Run the DPPA algorithm to analyze the session data.\n",
    "5. **Clustering:** Compute clusters in the physiological data using a defined threshold.\n",
    "6. **Saving Results:** Serialize and save the DPPA object for future analysis.\n",
    "\n",
    "### Expected Results\n",
    "By the end of this notebook, we expect to have a saved DPPA object containing the results of the dynamic pattern and cluster analysis, ready for further interpretation or visualization."
   ]
  },
  {
   "cell_type": "code",
   "execution_count": null,
   "id": "41a44d3c-2688-4766-896e-fc40a8388880",
   "metadata": {},
   "outputs": [],
   "source": [
    "import sys\n",
    "sys.path.append('../src/')\n",
    "\n",
    "import warnings\n",
    "#warnings.filterwarnings('ignore')  # Suppress warnings for cleaner output\n",
    "\n",
    "import os\n",
    "from pathlib import Path\n",
    "import json\n",
    "import pickle\n",
    "\n",
    "from session import Session\n",
    "from dppa import DPPA\n",
    "from helpers import *"
   ]
  },
  {
   "cell_type": "markdown",
   "id": "3a0de3b2-6c41-4fe9-98f1-d7888ee8e59e",
   "metadata": {
    "vscode": {
     "languageId": "markdown"
    }
   },
   "source": [
    "# Session Loading\n",
    "\n",
    "In this step, we define the identifiers for the family, session, and seance, and construct the file path to the preprocessed session data. We then load the session object from disk using Python's `pickle` module. This session object contains the physiological data and metadata required for subsequent DPPA analysis."
   ]
  },
  {
   "cell_type": "code",
   "execution_count": null,
   "id": "7a45c8e7-0234-4bd7-a67d-9a5615bc915b",
   "metadata": {},
   "outputs": [],
   "source": [
    "FAMILY_ID = 4\n",
    "SEANCE_ID = 1\n",
    "SESSION_ID = 0\n",
    "session_pathname = Path(f\"../data/output/processed/session_{SESSION_ID}_family_{FAMILY_ID}_seance_{SEANCE_ID}.pkl\")\n",
    "\n",
    "with open(session_pathname, \"rb\") as f:\n",
    "    session = pickle.load(f)\n",
    "print(f\"Session loaded from {session_pathname}\")"
   ]
  },
  {
   "cell_type": "markdown",
   "id": "e45e3ebb-d5a9-4537-b317-9f33907b5951",
   "metadata": {
    "vscode": {
     "languageId": "markdown"
    }
   },
   "source": [
    "# DPPA Initialization\n",
    "\n",
    "In this step, we create an instance of the `DPPA` class and associate it with the loaded session object. This prepares the DPPA object for subsequent analysis by providing it with the necessary session data."
   ]
  },
  {
   "cell_type": "code",
   "execution_count": null,
   "id": "4bfec916-4dbf-448d-937f-e6db2ad7159e",
   "metadata": {},
   "outputs": [],
   "source": [
    "verbose = True\n",
    "dppa = DPPA(verbose = verbose)\n",
    "dppa.set_session(session)"
   ]
  },
  {
   "cell_type": "markdown",
   "id": "c24c1da7-7b8c-4bdb-983f-b9b4d80ad5c1",
   "metadata": {
    "vscode": {
     "languageId": "markdown"
    }
   },
   "source": [
    "# Running the DPPA Algorithm\n",
    "\n",
    "In this step, we execute the main DPPA algorithm by calling the `run()` method on the `dppa` object. This method processes the session data and performs the core dynamic physiological pattern analysis, preparing the data for subsequent clustering and interpretation."
   ]
  },
  {
   "cell_type": "code",
   "execution_count": null,
   "id": "25a55a32-19ae-4ef3-88f6-0495fdb4f5f3",
   "metadata": {},
   "outputs": [],
   "source": [
    "dppa.run()"
   ]
  },
  {
   "cell_type": "markdown",
   "id": "502aabb8-d58b-4996-875c-3d1ffbae5319",
   "metadata": {
    "vscode": {
     "languageId": "markdown"
    }
   },
   "source": [
    "# Clustering Physiological Patterns\n",
    "\n",
    "In this step, we apply the `compute_clusters` method of the `dppa` object with a specified threshold value of 100. This method analyzes the results of the DPPA algorithm to identify clusters—groups of similar physiological patterns—within the session data. The threshold parameter determines the sensitivity of the clustering process, influencing how patterns are grouped together. The resulting clusters provide insight into periods of physiological synchrony or distinct group dynamics during the therapy session."
   ]
  },
  {
   "cell_type": "code",
   "execution_count": null,
   "id": "79d24823-cd4d-40cb-b11b-555bf95bc2ed",
   "metadata": {},
   "outputs": [],
   "source": [
    "dppa.compute_clusters(threshold = 100)"
   ]
  },
  {
   "cell_type": "markdown",
   "id": "23be939d-401b-4b87-87b6-9f2460aa19b3",
   "metadata": {
    "vscode": {
     "languageId": "markdown"
    }
   },
   "source": [
    "# Saving the DPPA Object\n",
    "\n",
    "In this step, we define the file path for saving the analyzed DPPA object, ensuring the target directory exists. We then serialize and save the `dppa` object using Python's `pickle` module. This allows us to preserve the results of the DPPA analysis for future use, enabling further interpretation or visualization without needing to rerun the analysis."
   ]
  },
  {
   "cell_type": "code",
   "execution_count": null,
   "id": "2fb88e65-0af8-4131-b65e-9d256e691b1b",
   "metadata": {},
   "outputs": [],
   "source": [
    "dppa_pathname = Path(f\"../data/output/dppa/session_{SESSION_ID}_family_{FAMILY_ID}_seance_{SEANCE_ID}.pkl\")\n",
    "if not dppa_pathname.parent.exists():\n",
    "    os.makedirs(dppa_pathname.parent)\n",
    "\n",
    "with open(dppa_pathname, \"wb\") as f:\n",
    "    pickle.dump(dppa, f)\n",
    "print(f\"DPPA saved to {dppa_pathname}\")"
   ]
  }
 ],
 "metadata": {
  "kernelspec": {
   "display_name": "Python 3 (ipykernel)",
   "language": "python",
   "name": "python3"
  },
  "language_info": {
   "codemirror_mode": {
    "name": "ipython",
    "version": 3
   },
   "file_extension": ".py",
   "mimetype": "text/x-python",
   "name": "python",
   "nbconvert_exporter": "python",
   "pygments_lexer": "ipython3",
   "version": "3.12.9"
  }
 },
 "nbformat": 4,
 "nbformat_minor": 5
}
