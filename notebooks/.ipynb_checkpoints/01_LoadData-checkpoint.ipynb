{
 "cells": [
  {
   "cell_type": "code",
   "execution_count": 1,
   "id": "eb8ca9de-b5bf-4b6d-b095-9e8da061f3e6",
   "metadata": {},
   "outputs": [],
   "source": [
    "import sys\n",
    "sys.path.append('../src/')\n",
    "\n",
    "#import warnings\n",
    "#warnings.filterwarnings('ignore')  # Suppress warnings for cleaner output\n",
    "\n",
    "from pathlib import Path\n",
    "import json\n",
    "import os\n",
    "\n",
    "from subject import Subject\n",
    "from physio_recording import PhysioRecording\n",
    "from session import Session\n",
    "from helpers import *"
   ]
  },
  {
   "cell_type": "code",
   "execution_count": 2,
   "id": "dbadface-2c99-4426-8aea-136748c08f2e",
   "metadata": {},
   "outputs": [],
   "source": [
    "FAMILY_ID = 4\n",
    "SEANCE_ID = 2\n",
    "SESSION_ID = 0\n",
    "\n",
    "session = Session(session_id = SESSION_ID, family_id = FAMILY_ID, seance_id = SEANCE_ID)\n",
    "\n",
    "sub0 = Subject(id = 0, role_id = 0, role_desc = \"THERAPIST\")\n",
    "sub1 = Subject(id = 0, role_id = 1, role_desc = \"MOTHER\")\n",
    "sub2 = Subject(id = 0, role_id = 2, role_desc = \"CHILD\")\n",
    "\n",
    "physio_recording_0 = PhysioRecording(subject_id = sub0.id, session_id = SESSION_ID)\n",
    "physio_recording_1 = PhysioRecording(subject_id = sub1.id, session_id = SESSION_ID)\n",
    "physio_recording_2 = PhysioRecording(subject_id = sub2.id, session_id = SESSION_ID)"
   ]
  },
  {
   "cell_type": "code",
   "execution_count": 3,
   "id": "17f71872-20fe-4dae-9dba-1b72b8b09646",
   "metadata": {},
   "outputs": [],
   "source": [
    "coi_structure_pathname = Path(\"../data/coi_structure.json\")\n",
    "\n",
    "if not coi_structure_pathname.exists():\n",
    "    raise FileNotFoundError(\"The COI structure file does not exist\")\n",
    "\n",
    "with open(coi_structure_pathname, \"r\") as f:\n",
    "    coi_structure = json.load(f)\n",
    "\n",
    "\n",
    "physio_filepath_0 = extract_raw_pathname(coi_structure, FAMILY_ID = FAMILY_ID, SEANCE_ID = SEANCE_ID, ROLE_ID = sub0.role_id)\n",
    "physio_filepath_1 = extract_raw_pathname(coi_structure, FAMILY_ID = FAMILY_ID, SEANCE_ID = SEANCE_ID, ROLE_ID = sub1.role_id)\n",
    "physio_filepath_2 = extract_raw_pathname(coi_structure, FAMILY_ID = FAMILY_ID, SEANCE_ID = SEANCE_ID, ROLE_ID = sub2.role_id)"
   ]
  },
  {
   "cell_type": "code",
   "execution_count": 5,
   "id": "9748bba3-dab0-4cd2-9ecb-d0be0f6ef89a",
   "metadata": {},
   "outputs": [],
   "source": [
    "physio_recording_0.set_physio_filepath(physio_filepath = physio_filepath_0)\n",
    "physio_recording_1.set_physio_filepath(physio_filepath = physio_filepath_1)\n",
    "physio_recording_2.set_physio_filepath(physio_filepath = physio_filepath_2)\n",
    "\n",
    "session.add_physio_recording(physio_recording_0)\n",
    "session.add_physio_recording(physio_recording_1)\n",
    "session.add_physio_recording(physio_recording_2)"
   ]
  },
  {
   "cell_type": "code",
   "execution_count": 6,
   "id": "06afe27d-8f63-4b20-bd81-fa5876366634",
   "metadata": {},
   "outputs": [
    {
     "name": "stdout",
     "output_type": "stream",
     "text": [
      "\n",
      "Loading raw data for session 0 and subject 0\n",
      "Loaded resting state Temperature data from TEMP_rs with 239 samples at 4 Hz.\n",
      "Loaded session Temperature data from TEMP_session with 16115 samples at 4 Hz.\n",
      "Loaded resting state EDA data from EDA_rs with 239 samples at 4 Hz.\n",
      "Loaded session EDA data from EDA_session with 16117 samples at 4 Hz.\n",
      "Loaded resting state BVP data from BVP_rs with 3839 samples at 64 Hz.\n",
      "Loaded session BVP data from BVP_session with 257917 samples at 64 Hz.\n",
      "\n",
      "Loading raw data for session 0 and subject 0\n",
      "Loaded resting state Temperature data from TEMP_rs with 0 samples at 4 Hz.\n",
      "Loaded session Temperature data from TEMP_session with 16131 samples at 4 Hz.\n",
      "Loaded resting state EDA data from EDA_rs with 239 samples at 4 Hz.\n",
      "Loaded session EDA data from EDA_session with 15887 samples at 4 Hz.\n",
      "Loaded resting state BVP data from BVP_rs with 3839 samples at 64 Hz.\n",
      "Loaded session BVP data from BVP_session with 254244 samples at 64 Hz.\n",
      "\n",
      "Loading raw data for session 0 and subject 0\n",
      "Loaded resting state Temperature data from TEMP_rs with 239 samples at 4 Hz.\n",
      "Loaded session Temperature data from TEMP_session with 16119 samples at 4 Hz.\n",
      "Loaded resting state EDA data from EDA_rs with 239 samples at 4 Hz.\n",
      "Loaded session EDA data from EDA_session with 16117 samples at 4 Hz.\n",
      "Loaded resting state BVP data from BVP_rs with 3839 samples at 64 Hz.\n",
      "Loaded session BVP data from BVP_session with 257924 samples at 64 Hz.\n"
     ]
    }
   ],
   "source": [
    "session.load_physio_recordings_data()"
   ]
  }
 ],
 "metadata": {
  "kernelspec": {
   "display_name": "Python 3 (ipykernel)",
   "language": "python",
   "name": "python3"
  },
  "language_info": {
   "codemirror_mode": {
    "name": "ipython",
    "version": 3
   },
   "file_extension": ".py",
   "mimetype": "text/x-python",
   "name": "python",
   "nbconvert_exporter": "python",
   "pygments_lexer": "ipython3",
   "version": "3.12.9"
  }
 },
 "nbformat": 4,
 "nbformat_minor": 5
}
