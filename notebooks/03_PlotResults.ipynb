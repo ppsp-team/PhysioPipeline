{
 "cells": [
  {
   "cell_type": "code",
   "execution_count": null,
   "id": "42f7fd72-d71f-486c-9a87-e95a2ed25c84",
   "metadata": {},
   "outputs": [],
   "source": [
    "import sys\n",
    "sys.path.append('../src/')\n",
    "\n",
    "import warnings\n",
    "#warnings.filterwarnings('ignore')  # Suppress warnings for cleaner output\n",
    "\n",
    "import os\n",
    "from pathlib import Path\n",
    "import pickle\n",
    "\n",
    "from session import Session\n",
    "from dppa import DPPA\n",
    "from helpers import *"
   ]
  },
  {
   "cell_type": "code",
   "execution_count": null,
   "id": "35926af7-3926-4271-82e7-3bf7dc082339",
   "metadata": {},
   "outputs": [],
   "source": [
    "FAMILY_ID = 4\n",
    "SEANCE_ID = 1\n",
    "SESSION_ID = 0\n",
    "\n",
    "session_pathname = Path(f\"../data/output/processed/session_{SESSION_ID}_family_{FAMILY_ID}_seance_{SEANCE_ID}.pkl\")\n",
    "with open(session_pathname, \"rb\") as f:\n",
    "    session = pickle.load(f)\n",
    "print(f\"Session loaded from {session_pathname}\")\n",
    "\n",
    "dppa_pathname = Path(f\"../data/output/dppa/session_{SESSION_ID}_family_{FAMILY_ID}_seance_{SEANCE_ID}.pkl\")\n",
    "with open(dppa_pathname, \"rb\") as f:\n",
    "    dppa = pickle.load(f)\n",
    "print(f\"DPPA loaded from {dppa_pathname}\")"
   ]
  },
  {
   "cell_type": "code",
   "execution_count": null,
   "id": "511741d8-68a7-4e66-a0ad-c75e2b24fc7d",
   "metadata": {},
   "outputs": [],
   "source": [
    "session.plot_time_series('heartrate', 'Heartrate', min_y = 0, max_y = 200)\n",
    "#session.plot_time_series('bvp', 'PPG_Clean', min_y = -2000, max_y = 2000)\n",
    "#session.plot_time_series('eda', 'EDA_Phasic', min_y = -20, max_y = 20)\n",
    "#session.plot_time_series('eda', 'EDA_Tonic', min_y = -20, max_y = 20)\n",
    "session.plot_poincare_map()"
   ]
  },
  {
   "cell_type": "code",
   "execution_count": null,
   "id": "39b37ce9-0048-402f-a573-fa6ff690a918",
   "metadata": {},
   "outputs": [],
   "source": [
    "dppa.plot_centroid()\n",
    "#dppa.plot_sd1()\n",
    "#dppa.plot_sd2()\n",
    "#dppa.plot_sd1_sd2_ratio()"
   ]
  },
  {
   "cell_type": "code",
   "execution_count": null,
   "id": "159a7379-4ec4-4b25-b39c-9dbd0d62ec46",
   "metadata": {},
   "outputs": [],
   "source": [
    "dppa.plot_icd()"
   ]
  },
  {
   "cell_type": "code",
   "execution_count": null,
   "id": "06ba2018-938d-4420-9732-65b54e8cd5f6",
   "metadata": {},
   "outputs": [],
   "source": [
    "dppa.plot_weighted_connectivity_graph()"
   ]
  },
  {
   "cell_type": "code",
   "execution_count": null,
   "id": "28f722df-8a47-46b8-9487-405dd22e8f2c",
   "metadata": {},
   "outputs": [],
   "source": [
    "dppa.plot_connection_heatmap()"
   ]
  }
 ],
 "metadata": {
  "kernelspec": {
   "display_name": "Python 3 (ipykernel)",
   "language": "python",
   "name": "python3"
  },
  "language_info": {
   "codemirror_mode": {
    "name": "ipython",
    "version": 3
   },
   "file_extension": ".py",
   "mimetype": "text/x-python",
   "name": "python",
   "nbconvert_exporter": "python",
   "pygments_lexer": "ipython3",
   "version": "3.12.9"
  }
 },
 "nbformat": 4,
 "nbformat_minor": 5
}
