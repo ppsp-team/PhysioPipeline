{
 "cells": [
  {
   "cell_type": "code",
   "execution_count": 1,
   "id": "eb8ca9de-b5bf-4b6d-b095-9e8da061f3e6",
   "metadata": {},
   "outputs": [],
   "source": [
    "import sys\n",
    "sys.path.append('../src/')\n",
    "\n",
    "import warnings\n",
    "#warnings.filterwarnings('ignore')  # Suppress warnings for cleaner output\n",
    "\n",
    "import os\n",
    "from pathlib import Path\n",
    "import json\n",
    "import pickle\n",
    "\n",
    "from subject import Subject\n",
    "from physio_recording import PhysioRecording\n",
    "from session import Session\n",
    "from helpers import *"
   ]
  },
  {
   "cell_type": "code",
   "execution_count": 2,
   "id": "389d23e0-2413-43c0-b318-530cd1a408cd",
   "metadata": {},
   "outputs": [],
   "source": [
    "coi_structure_pathname = Path(\"../data/coi_structure.json\")\n",
    "\n",
    "if not coi_structure_pathname.exists():\n",
    "    raise FileNotFoundError(\"The COI structure file does not exist\")\n",
    "\n",
    "with open(coi_structure_pathname, \"r\") as f:\n",
    "    coi_structure = json.load(f)"
   ]
  },
  {
   "cell_type": "code",
   "execution_count": 3,
   "id": "dbadface-2c99-4426-8aea-136748c08f2e",
   "metadata": {},
   "outputs": [],
   "source": [
    "FAMILY_ID = 4\n",
    "SEANCE_ID = 1\n",
    "SESSION_ID = 0\n",
    "\n",
    "session = Session(session_id = SESSION_ID, family_id = FAMILY_ID, seance_id = SEANCE_ID)\n",
    "\n",
    "subjects: [Subject] = []\n",
    "\n",
    "subjects.append(Subject(id = 0, role_id = 0, role_desc = \"THERAPIST\"))\n",
    "subjects.append(Subject(id = 1, role_id = 1, role_desc = \"MOTHER\"))\n",
    "subjects.append(Subject(id = 2, role_id = 2, role_desc = \"CHILD\"))\n",
    "\n",
    "for subject in subjects:\n",
    "    physio_recording = PhysioRecording(subject_id = subject.id, session_id = SESSION_ID)\n",
    "    physio_filepath = extract_raw_pathname_from_coi_structure(\n",
    "        coi_structure = coi_structure,\n",
    "        FAMILY_ID = FAMILY_ID,\n",
    "        SEANCE_ID = SEANCE_ID,\n",
    "        ROLE_ID = subject.role_id)\n",
    "    physio_recording.set_physio_filepath(physio_filepath = physio_filepath)\n",
    "    session.add_physio_recording(physio_recording = physio_recording)"
   ]
  },
  {
   "cell_type": "code",
   "execution_count": 4,
   "id": "06afe27d-8f63-4b20-bd81-fa5876366634",
   "metadata": {},
   "outputs": [
    {
     "name": "stdout",
     "output_type": "stream",
     "text": [
      "Loading physio recordings for session 0, family 4, seance 1...\n",
      "\tLoading raw data for session 0 and subject 0\n",
      "\t\tLoaded resting state Temperature data from TEMP_rs with 239 samples at 4 Hz.\n",
      "\t\tLoaded session Temperature data from TEMP_session with 19891 samples at 4 Hz.\n",
      "\t\tLoaded resting state HR data from HR_rs with 59 samples at 1 Hz.\n",
      "\t\tLoaded session HR data from HR_session with 4974 samples at 1 Hz.\n",
      "\t\tLoaded resting state EDA data from EDA_rs with 239 samples at 4 Hz.\n",
      "\t\tLoaded session EDA data from EDA_session with 19891 samples at 4 Hz.\n",
      "\t\tLoaded resting state BVP data from BVP_rs with 3839 samples at 64 Hz.\n",
      "\t\tLoaded session BVP data from BVP_session with 318394 samples at 64 Hz.\n",
      "\tLoading raw data for session 0 and subject 1\n",
      "\t\tLoaded resting state Temperature data from TEMP_rs with 239 samples at 4 Hz.\n",
      "\t\tLoaded session Temperature data from TEMP_session with 19867 samples at 4 Hz.\n",
      "\t\tLoaded resting state HR data from HR_rs with 59 samples at 1 Hz.\n",
      "\t\tLoaded session HR data from HR_session with 4967 samples at 1 Hz.\n",
      "\t\tLoaded resting state EDA data from EDA_rs with 239 samples at 4 Hz.\n",
      "\t\tLoaded session EDA data from EDA_session with 19865 samples at 4 Hz.\n",
      "\t\tLoaded resting state BVP data from BVP_rs with 3839 samples at 64 Hz.\n",
      "\t\tLoaded session BVP data from BVP_session with 317947 samples at 64 Hz.\n",
      "\tLoading raw data for session 0 and subject 2\n",
      "\t\tLoaded resting state Temperature data from TEMP_rs with 239 samples at 4 Hz.\n",
      "\t\tLoaded session Temperature data from TEMP_session with 19879 samples at 4 Hz.\n",
      "\t\tLoaded resting state HR data from HR_rs with 59 samples at 1 Hz.\n",
      "\t\tLoaded session HR data from HR_session with 4970 samples at 1 Hz.\n",
      "\t\tLoaded resting state EDA data from EDA_rs with 239 samples at 4 Hz.\n",
      "\t\tLoaded session EDA data from EDA_session with 19879 samples at 4 Hz.\n",
      "\t\tLoaded resting state BVP data from BVP_rs with 3839 samples at 64 Hz.\n",
      "\t\tLoaded session BVP data from BVP_session with 318136 samples at 64 Hz.\n"
     ]
    }
   ],
   "source": [
    "session.load_physio_recordings_data()"
   ]
  },
  {
   "cell_type": "code",
   "execution_count": 5,
   "id": "1b11c6be-bae8-4668-8455-fc7aa5a6fc03",
   "metadata": {},
   "outputs": [
    {
     "name": "stdout",
     "output_type": "stream",
     "text": [
      "dict_keys(['sampling_rate', 'nb_channels', 'nb_samples', 'duration', 'data'])\n",
      "4\n"
     ]
    }
   ],
   "source": [
    "print(session.physio_recordings[0].eda[\"raw\"][\"rs\"].keys())\n",
    "print(session.physio_recordings[0].eda[\"raw\"][\"rs\"][\"sampling_rate\"])"
   ]
  },
  {
   "cell_type": "code",
   "execution_count": 6,
   "id": "db0cad21-b4c9-4d6b-b49c-f1b7cdd9c708",
   "metadata": {},
   "outputs": [
    {
     "name": "stdout",
     "output_type": "stream",
     "text": [
      "Processing physio recordings for session 0, family 4, seance 1...\n",
      "\tProcessing physio data for subject 0 and session 0...\n",
      "\t\tProcessing EDA data... \n",
      "\t\tCleaned EDA resting state data with 239 samples at 4 Hz.\n",
      "\t\tCleaned EDA session data with 19891 samples at 4 Hz.\n",
      "\t\tResampled EDA resting state data to 64 Hz with 3824 samples.\n",
      "\t\tResampled EDA session data to 64 Hz with 318256 samples.\n"
     ]
    },
    {
     "name": "stderr",
     "output_type": "stream",
     "text": [
      "/Users/blackstar/PPSP/02 - Dev/021 - Physiological Pipeline/PhysioPipeline/.venv/lib/python3.12/site-packages/neurokit2/eda/eda_clean.py:105: NeuroKitWarning: EDA signal is sampled at very low frequency. Skipping filtering.\n",
      "  warn(\n"
     ]
    },
    {
     "name": "stdout",
     "output_type": "stream",
     "text": [
      "\t\tProcessed EDA resting state data with 239 samples at 4 Hz.\n",
      "\t\tProcessed EDA session data with 19891 samples at 4 Hz.\n",
      "\t\tProcessing BVP data...\n",
      "\t\tComputing RR intervals from BVP data...\n",
      "\t\tExtracting RR intervals from BVP data with sampling rate 64 Hz...\n",
      "\t\tDetected 1 anomalies (1.27% of total RR intervals).\n",
      "\t\tDetected 36 anomalies (0.57% of total RR intervals).\n",
      "\t\tExtracted 80 RR intervals from resting state BVP data.\n",
      "\t\tExtracted 6351 RR intervals from session BVP data.\n",
      "\t\tComputed RR intervals for resting state BVP data with 80 intervals.\n",
      "\t\tComputed RR intervals for session BVP data with 6351 intervals.\n",
      "\t\tProcessed BVP resting state data with 3839 samples at 64 Hz.\n",
      "\t\tProcessed BVP session data with 318394 samples at 64 Hz.\n",
      "\t\tProcessing Temperature data... not implemented yet ...\n",
      "\t\tProcessing Heart Rate data... \n",
      "\t\tProcessed Heart Rate resting state data with 59 samples at 1 Hz.\n",
      "\tProcessing physio data for subject 1 and session 0...\n",
      "\t\tProcessing EDA data... \n",
      "\t\tCleaned EDA resting state data with 239 samples at 4 Hz.\n",
      "\t\tCleaned EDA session data with 19865 samples at 4 Hz.\n",
      "\t\tResampled EDA resting state data to 64 Hz with 3824 samples.\n",
      "\t\tResampled EDA session data to 64 Hz with 317840 samples.\n"
     ]
    },
    {
     "name": "stderr",
     "output_type": "stream",
     "text": [
      "/Users/blackstar/PPSP/02 - Dev/021 - Physiological Pipeline/PhysioPipeline/.venv/lib/python3.12/site-packages/neurokit2/eda/eda_clean.py:105: NeuroKitWarning: EDA signal is sampled at very low frequency. Skipping filtering.\n",
      "  warn(\n"
     ]
    },
    {
     "name": "stdout",
     "output_type": "stream",
     "text": [
      "\t\tProcessed EDA resting state data with 239 samples at 4 Hz.\n",
      "\t\tProcessed EDA session data with 19865 samples at 4 Hz.\n",
      "\t\tProcessing BVP data...\n",
      "\t\tComputing RR intervals from BVP data...\n",
      "\t\tExtracting RR intervals from BVP data with sampling rate 64 Hz...\n",
      "\t\tDetected 1 anomalies (1.56% of total RR intervals).\n",
      "\t\tDetected 173 anomalies (3.00% of total RR intervals).\n",
      "\t\tExtracted 66 RR intervals from resting state BVP data.\n",
      "\t\tExtracted 6246 RR intervals from session BVP data.\n",
      "\t\tComputed RR intervals for resting state BVP data with 66 intervals.\n",
      "\t\tComputed RR intervals for session BVP data with 6246 intervals.\n",
      "\t\tProcessed BVP resting state data with 3839 samples at 64 Hz.\n",
      "\t\tProcessed BVP session data with 317947 samples at 64 Hz.\n",
      "\t\tProcessing Temperature data... not implemented yet ...\n",
      "\t\tProcessing Heart Rate data... \n",
      "\t\tProcessed Heart Rate resting state data with 59 samples at 1 Hz.\n",
      "\tProcessing physio data for subject 2 and session 0...\n",
      "\t\tProcessing EDA data... \n",
      "\t\tCleaned EDA resting state data with 239 samples at 4 Hz.\n",
      "\t\tCleaned EDA session data with 19879 samples at 4 Hz.\n",
      "\t\tResampled EDA resting state data to 64 Hz with 3824 samples.\n",
      "\t\tResampled EDA session data to 64 Hz with 318064 samples.\n"
     ]
    },
    {
     "name": "stderr",
     "output_type": "stream",
     "text": [
      "/Users/blackstar/PPSP/02 - Dev/021 - Physiological Pipeline/PhysioPipeline/.venv/lib/python3.12/site-packages/neurokit2/eda/eda_clean.py:105: NeuroKitWarning: EDA signal is sampled at very low frequency. Skipping filtering.\n",
      "  warn(\n"
     ]
    },
    {
     "name": "stdout",
     "output_type": "stream",
     "text": [
      "\t\tProcessed EDA resting state data with 239 samples at 4 Hz.\n",
      "\t\tProcessed EDA session data with 19879 samples at 4 Hz.\n",
      "\t\tProcessing BVP data...\n",
      "\t\tComputing RR intervals from BVP data...\n",
      "\t\tExtracting RR intervals from BVP data with sampling rate 64 Hz...\n",
      "\t\tDetected 0 anomalies (0.00% of total RR intervals).\n",
      "\t\tDetected 0 anomalies (0.00% of total RR intervals).\n",
      "\t\tExtracted 73 RR intervals from resting state BVP data.\n",
      "\t\tExtracted 6724 RR intervals from session BVP data.\n",
      "\t\tComputed RR intervals for resting state BVP data with 73 intervals.\n",
      "\t\tComputed RR intervals for session BVP data with 6724 intervals.\n",
      "\t\tProcessed BVP resting state data with 3839 samples at 64 Hz.\n",
      "\t\tProcessed BVP session data with 318136 samples at 64 Hz.\n",
      "\t\tProcessing Temperature data... not implemented yet ...\n",
      "\t\tProcessing Heart Rate data... \n",
      "\t\tProcessed Heart Rate resting state data with 59 samples at 1 Hz.\n"
     ]
    }
   ],
   "source": [
    "session.process_physio_recordings()"
   ]
  },
  {
   "cell_type": "code",
   "execution_count": 7,
   "id": "743aa89e-afc2-40c6-a0b9-99bade5a97cf",
   "metadata": {},
   "outputs": [
    {
     "name": "stdout",
     "output_type": "stream",
     "text": [
      "dict_keys(['EDA_Raw', 'EDA_Clean', 'EDA_Tonic', 'EDA_Phasic', 'SCR_Onsets', 'SCR_Peaks', 'SCR_Height', 'SCR_Amplitude', 'SCR_RiseTime', 'SCR_Recovery', 'SCR_RecoveryTime', 'sampling_rate'])\n",
      "64\n",
      "dict_keys(['PPG_Raw', 'PPG_Clean', 'PPG_Rate', 'PPG_Quality', 'PPG_Peaks', 'sampling_rate', 'RR_Intervals'])\n",
      "64\n",
      "dict_keys(['Heartrate', 'sampling_rate'])\n",
      "1\n"
     ]
    }
   ],
   "source": [
    "print(session.physio_recordings[0].eda[\"processed\"][\"rs\"].keys())\n",
    "print(session.physio_recordings[0].eda[\"processed\"][\"rs\"][\"sampling_rate\"])\n",
    "\n",
    "print(session.physio_recordings[0].bvp[\"processed\"][\"rs\"].keys())\n",
    "print(session.physio_recordings[0].bvp[\"processed\"][\"rs\"][\"sampling_rate\"])\n",
    "\n",
    "print(session.physio_recordings[0].heartrate[\"processed\"][\"rs\"].keys())\n",
    "print(session.physio_recordings[0].heartrate[\"processed\"][\"rs\"][\"sampling_rate\"])"
   ]
  },
  {
   "cell_type": "code",
   "execution_count": 8,
   "id": "bef369c4-7ea4-424d-9c6d-9b131727f1ba",
   "metadata": {},
   "outputs": [
    {
     "name": "stdout",
     "output_type": "stream",
     "text": [
      "Epoching physio recordings for session 0, family 4, seance 1...\n",
      "\tEpoching signal for subject 0 and session 0 using method 'fixed_duration'...\n",
      "\t\tEpoching EDA metric for 'EDA_Tonic' using fixed_duration...\n",
      "\t\tEpoching EDA time series for 'EDA_Tonic' with duration 30s and overlap 0s.\n",
      "\t\tCreated 166 epochs of 30s from EDA 'EDA_Tonic' data.\n",
      "\t\tEpoching complete for EDA metric 'EDA_Tonic' using fixed_duration method.\n",
      "\t\tEpoching EDA metric for 'EDA_Phasic' using fixed_duration...\n",
      "\t\tEpoching EDA time series for 'EDA_Phasic' with duration 30s and overlap 0s.\n",
      "\t\tCreated 166 epochs of 30s from EDA 'EDA_Phasic' data.\n",
      "\t\tEpoching complete for EDA metric 'EDA_Phasic' using fixed_duration method.\n",
      "\t\tEpoching BVP metric for 'RR_Intervals' using fixed_duration...\n",
      "\t\tEpoching BVP interval series for 'RR_Intervals' with fixed duration 30s...\n",
      "\t\tCreated 165 epochs of 30s for BVP 'RR_Intervals' data.\n",
      "\t\tEpoching complete for BVP metric 'RR_Intervals' using fixed_duration method.\n",
      "\t\tEpoching HEARTRATE metric for 'Heartrate' using fixed_duration...\n",
      "\t\tEpoching HEARTRATE time series for 'Heartrate' with duration 30s and overlap 0s.\n",
      "\t\tCreated 166 epochs of 30s from HEARTRATE 'Heartrate' data.\n",
      "\t\tEpoching complete for HEARTRATE metric 'Heartrate' using fixed_duration method.\n",
      "\tEpoching complete for subject 0 and session 0 using method 'fixed_duration'.\n",
      "\tEpoching signal for subject 1 and session 0 using method 'fixed_duration'...\n",
      "\t\tEpoching EDA metric for 'EDA_Tonic' using fixed_duration...\n",
      "\t\tEpoching EDA time series for 'EDA_Tonic' with duration 30s and overlap 0s.\n",
      "\t\tCreated 166 epochs of 30s from EDA 'EDA_Tonic' data.\n",
      "\t\tEpoching complete for EDA metric 'EDA_Tonic' using fixed_duration method.\n",
      "\t\tEpoching EDA metric for 'EDA_Phasic' using fixed_duration...\n",
      "\t\tEpoching EDA time series for 'EDA_Phasic' with duration 30s and overlap 0s.\n",
      "\t\tCreated 166 epochs of 30s from EDA 'EDA_Phasic' data.\n",
      "\t\tEpoching complete for EDA metric 'EDA_Phasic' using fixed_duration method.\n",
      "\t\tEpoching BVP metric for 'RR_Intervals' using fixed_duration...\n",
      "\t\tEpoching BVP interval series for 'RR_Intervals' with fixed duration 30s...\n",
      "\t\tCreated 165 epochs of 30s for BVP 'RR_Intervals' data.\n",
      "\t\tEpoching complete for BVP metric 'RR_Intervals' using fixed_duration method.\n",
      "\t\tEpoching HEARTRATE metric for 'Heartrate' using fixed_duration...\n",
      "\t\tEpoching HEARTRATE time series for 'Heartrate' with duration 30s and overlap 0s.\n",
      "\t\tCreated 166 epochs of 30s from HEARTRATE 'Heartrate' data.\n",
      "\t\tEpoching complete for HEARTRATE metric 'Heartrate' using fixed_duration method.\n",
      "\tEpoching complete for subject 1 and session 0 using method 'fixed_duration'.\n",
      "\tEpoching signal for subject 2 and session 0 using method 'fixed_duration'...\n",
      "\t\tEpoching EDA metric for 'EDA_Tonic' using fixed_duration...\n",
      "\t\tEpoching EDA time series for 'EDA_Tonic' with duration 30s and overlap 0s.\n",
      "\t\tCreated 166 epochs of 30s from EDA 'EDA_Tonic' data.\n",
      "\t\tEpoching complete for EDA metric 'EDA_Tonic' using fixed_duration method.\n",
      "\t\tEpoching EDA metric for 'EDA_Phasic' using fixed_duration...\n",
      "\t\tEpoching EDA time series for 'EDA_Phasic' with duration 30s and overlap 0s.\n",
      "\t\tCreated 166 epochs of 30s from EDA 'EDA_Phasic' data.\n",
      "\t\tEpoching complete for EDA metric 'EDA_Phasic' using fixed_duration method.\n",
      "\t\tEpoching BVP metric for 'RR_Intervals' using fixed_duration...\n",
      "\t\tEpoching BVP interval series for 'RR_Intervals' with fixed duration 30s...\n",
      "\t\tCreated 165 epochs of 30s for BVP 'RR_Intervals' data.\n",
      "\t\tEpoching complete for BVP metric 'RR_Intervals' using fixed_duration method.\n",
      "\t\tEpoching HEARTRATE metric for 'Heartrate' using fixed_duration...\n",
      "\t\tEpoching HEARTRATE time series for 'Heartrate' with duration 30s and overlap 0s.\n",
      "\t\tCreated 166 epochs of 30s from HEARTRATE 'Heartrate' data.\n",
      "\t\tEpoching complete for HEARTRATE metric 'Heartrate' using fixed_duration method.\n",
      "\tEpoching complete for subject 2 and session 0 using method 'fixed_duration'.\n"
     ]
    }
   ],
   "source": [
    "session.epoch_physio_recordings(method = \"fixed_duration\", duration = 30, overlap = 0)\n",
    "#session.epoch_physio_recordings(method = \"fixed_number\", n_epochs = 30)\n",
    "#session.epoch_physio_recordings(method = \"sliding_window\", duration = 30, step = 5)"
   ]
  },
  {
   "cell_type": "code",
   "execution_count": 9,
   "id": "0fc71e2c-b714-4a3c-b879-f039992482a3",
   "metadata": {},
   "outputs": [
    {
     "name": "stdout",
     "output_type": "stream",
     "text": [
      "Epoched data for 0\n",
      "\tEDA keys: dict_keys(['EDA_Tonic', 'EDA_Phasic'])\n",
      "\t\tNumber of epochs for key EDA_Tonic: 166\n",
      "\t\tNumber of epochs for key EDA_Phasic: 166\n",
      "\tBVP keys: dict_keys(['RR_Intervals'])\n",
      "\t\tNumber of epochs for key RR_Intervals: 165\n",
      "\tHeartrate keys: dict_keys(['Heartrate'])\n",
      "\t\tNumber of epochs for key Heartrate: 166\n",
      "Epoched data for 1\n",
      "\tEDA keys: dict_keys(['EDA_Tonic', 'EDA_Phasic'])\n",
      "\t\tNumber of epochs for key EDA_Tonic: 166\n",
      "\t\tNumber of epochs for key EDA_Phasic: 166\n",
      "\tBVP keys: dict_keys(['RR_Intervals'])\n",
      "\t\tNumber of epochs for key RR_Intervals: 165\n",
      "\tHeartrate keys: dict_keys(['Heartrate'])\n",
      "\t\tNumber of epochs for key Heartrate: 166\n",
      "Epoched data for 2\n",
      "\tEDA keys: dict_keys(['EDA_Tonic', 'EDA_Phasic'])\n",
      "\t\tNumber of epochs for key EDA_Tonic: 166\n",
      "\t\tNumber of epochs for key EDA_Phasic: 166\n",
      "\tBVP keys: dict_keys(['RR_Intervals'])\n",
      "\t\tNumber of epochs for key RR_Intervals: 165\n",
      "\tHeartrate keys: dict_keys(['Heartrate'])\n",
      "\t\tNumber of epochs for key Heartrate: 166\n"
     ]
    }
   ],
   "source": [
    "for physio_recording in session.physio_recordings:\n",
    "    print(f\"Epoched data for {physio_recording.subject_id}\") \n",
    "    print(f\"\\tEDA keys: {physio_recording.eda['epochs']['session'].keys()}\")\n",
    "    for key in physio_recording.eda[\"epochs\"][\"session\"].keys():\n",
    "        print(f\"\\t\\tNumber of epochs for key {key}: {len(physio_recording.eda['epochs']['session'][key])}\")\n",
    "    \n",
    "    print(f\"\\tBVP keys: {physio_recording.bvp['epochs']['session'].keys()}\")\n",
    "    for key in physio_recording.bvp[\"epochs\"][\"session\"].keys():\n",
    "        print(f\"\\t\\tNumber of epochs for key {key}: {len(physio_recording.bvp['epochs']['session'][key])}\")\n",
    "\n",
    "    print(f\"\\tHeartrate keys: {physio_recording.heartrate['epochs']['session'].keys()}\")\n",
    "    for key in physio_recording.heartrate[\"epochs\"][\"session\"].keys():\n",
    "        print(f\"\\t\\tNumber of epochs for key {key}: {len(physio_recording.heartrate['epochs']['session'][key])}\")"
   ]
  },
  {
   "cell_type": "code",
   "execution_count": 10,
   "id": "cb53a6f6-24f7-4b3c-9855-c1287ef91639",
   "metadata": {},
   "outputs": [
    {
     "name": "stdout",
     "output_type": "stream",
     "text": [
      "Session saved to ../data/output/processed/session_0_family_4_seance_1.pkl\n"
     ]
    }
   ],
   "source": [
    "session_pathname = Path(f\"../data/output/processed/session_{SESSION_ID}_family_{FAMILY_ID}_seance_{SEANCE_ID}.pkl\")\n",
    "if not session_pathname.parent.exists():\n",
    "    os.makedirs(session_pathname.parent)\n",
    "\n",
    "with open(session_pathname, \"wb\") as f:\n",
    "    pickle.dump(session, f)\n",
    "print(f\"Session saved to {session_pathname}\")"
   ]
  }
 ],
 "metadata": {
  "kernelspec": {
   "display_name": "Python 3 (ipykernel)",
   "language": "python",
   "name": "python3"
  },
  "language_info": {
   "codemirror_mode": {
    "name": "ipython",
    "version": 3
   },
   "file_extension": ".py",
   "mimetype": "text/x-python",
   "name": "python",
   "nbconvert_exporter": "python",
   "pygments_lexer": "ipython3",
   "version": "3.12.9"
  }
 },
 "nbformat": 4,
 "nbformat_minor": 5
}
