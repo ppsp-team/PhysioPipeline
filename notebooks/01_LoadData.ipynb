{
 "cells": [
  {
   "cell_type": "markdown",
   "id": "b27b463d-90c1-4de0-b83f-19645d7edc97",
   "metadata": {
    "vscode": {
     "languageId": "markdown"
    }
   },
   "source": [
    "## Project Overview\n",
    "\n",
    "In this notebook, we are processing physiological recordings from a family therapy session. The goal is to organize, preprocess, and segment the physiological data for further analysis.\n",
    "\n",
    "### What are we doing?\n",
    "We are loading raw physiological data for each participant in a session, processing the data, segmenting it into epochs, and saving the processed session for future use.\n",
    "\n",
    "### Why are we doing it?\n",
    "Segmenting and processing physiological data enables us to analyze patterns and interactions between participants during therapy sessions. This can provide insights into physiological synchrony, emotional responses, and other relevant metrics.\n",
    "\n",
    "### How are we doing it?\n",
    "1. **Setup:** Import necessary modules and helper functions.\n",
    "2. **Load COI Structure:** Read the configuration file that maps data files to each participant.\n",
    "3. **Session Initialization:** Create a `Session` object and add `Subject` and `PhysioRecording` objects for each participant.\n",
    "4. **Data Loading:** Load raw physiological data for each participant.\n",
    "5. **Processing:** Apply preprocessing steps to clean and standardize the data.\n",
    "6. **Epoching:** Segment the processed data into fixed-duration epochs.\n",
    "7. **Saving:** Save the processed session object for future analysis.\n",
    "\n",
    "### Expected Results\n",
    "At the end of this notebook, we expect to have a serialized session object containing preprocessed and segmented physiological data for all participants, ready for downstream analysis."
   ]
  },
  {
   "cell_type": "code",
   "execution_count": null,
   "id": "eb8ca9de-b5bf-4b6d-b095-9e8da061f3e6",
   "metadata": {},
   "outputs": [],
   "source": [
    "import sys\n",
    "sys.path.append('../src/')\n",
    "\n",
    "import warnings\n",
    "#warnings.filterwarnings('ignore')  # Suppress warnings for cleaner output\n",
    "\n",
    "import os\n",
    "from pathlib import Path\n",
    "import json\n",
    "import pickle\n",
    "\n",
    "from subject import Subject\n",
    "from physio_recording import PhysioRecording\n",
    "from session import Session\n",
    "from helpers import *"
   ]
  },
  {
   "cell_type": "markdown",
   "id": "ee602333-fe40-42f0-8588-9e181a73fd23",
   "metadata": {
    "vscode": {
     "languageId": "markdown"
    }
   },
   "source": [
    "# Loading sessions structure\n",
    "\n",
    "In the following cell, we are loading the COI (Case of Interest) structure from a JSON file. This structure maps each participant in the session to their corresponding physiological data file and metadata. The COI structure is essential for organizing and accessing the correct data for each subject in the analysis.\n",
    "\n",
    "**Example of a COI structure entry:**\n",
    "```json\n",
    "{\n",
    "    \"session_code\": \"fam4_session_2\",\n",
    "    \"family\": 4,\n",
    "    \"session\": 2,\n",
    "    \"sensor\": \"1723456789_B12CDE\",\n",
    "    \"role\": \"MOTHER\",\n",
    "    \"index\": 1\n",
    "}\n",
    "```\n",
    "\n",
    "**Explanation of fields:**\n",
    "- `session_code`: Unique identifier for the session (e.g., \"fam4_session_2\").\n",
    "- `family`: Family ID number (e.g., 4).\n",
    "- `session`: Session number within the family (e.g., 2).\n",
    "- `sensor`: Identifier for the physiological sensor device (e.g., \"1723456789_B12CDE\").\n",
    "- `role`: Role of the participant in the session (e.g., \"MOTHER\").\n",
    "- `index`: Index or ID for the participant (e.g., 1).\n",
    "\n",
    "By loading this structure, we can programmatically link each subject to their data files and relevant metadata for further processing."
   ]
  },
  {
   "cell_type": "code",
   "execution_count": null,
   "id": "389d23e0-2413-43c0-b318-530cd1a408cd",
   "metadata": {},
   "outputs": [],
   "source": [
    "coi_structure_pathname = Path(\"../data/coi_structure.json\")\n",
    "\n",
    "if not coi_structure_pathname.exists():\n",
    "    raise FileNotFoundError(\"The COI structure file does not exist\")\n",
    "\n",
    "with open(coi_structure_pathname, \"r\") as f:\n",
    "    coi_structure = json.load(f)"
   ]
  },
  {
   "cell_type": "markdown",
   "id": "1158d928-7957-4a25-a170-13a84f7fcab7",
   "metadata": {
    "vscode": {
     "languageId": "markdown"
    }
   },
   "source": [
    "# Creating session object\n",
    "\n",
    "In this section, we are initializing the session and subject objects, and linking each subject to their corresponding physiological data files using the COI structure. This setup ensures that each participant's data is correctly associated with their role in the session, preparing the data for loading, processing, and analysis in the subsequent steps."
   ]
  },
  {
   "cell_type": "code",
   "execution_count": null,
   "id": "dbadface-2c99-4426-8aea-136748c08f2e",
   "metadata": {},
   "outputs": [],
   "source": [
    "FAMILY_ID = 4\n",
    "SEANCE_ID = 1\n",
    "SESSION_ID = 0\n",
    "\n",
    "verbose = True\n",
    "\n",
    "session = Session(session_id = SESSION_ID, family_id = FAMILY_ID, seance_id = SEANCE_ID, verbose = verbose)\n",
    "\n",
    "subjects: [Subject] = []\n",
    "\n",
    "FILEPATH_DANCER = Path(\"../data/dancer.xlsx\")\n",
    "FILEPATH_RESIDENT = Path(\"../data/resident.xlsx\")\n",
    "\n",
    "subjects.append(Subject(id = 0, role_id = 0, role_desc = \"DANCER\"))\n",
    "subjects.append(Subject(id = 1, role_id = 1, role_desc = \"RESIDENT\"))\n",
    "\n",
    "for subject in subjects:\n",
    "    physio_recording = PhysioRecording(subject_id = subject.id, seance_id = SEANCE_ID, session_id = SESSION_ID)\n",
    "    physio_filepath = FILEPATH_DANCER if subject.role_id == 0 else FILEPATH_RESIDENT\n",
    "    physio_recording.set_physio_filepath(physio_filepath = physio_filepath)\n",
    "    session.add_physio_recording(physio_recording = physio_recording)"
   ]
  },
  {
   "cell_type": "markdown",
   "id": "3355a2d5-6e34-45bb-8f2d-0c4ce6fa07a8",
   "metadata": {
    "vscode": {
     "languageId": "markdown"
    }
   },
   "source": [
    "# Loading physiological data\n",
    "\n",
    "In this cell, we are loading the raw physiological data for each participant in the session. By invoking `session.load_physio_recordings_data()`, we ensure that the physiological recordings linked to each subject are read from their respective files and stored within the session object. This step is crucial for making the data available for subsequent preprocessing, segmentation, and analysis."
   ]
  },
  {
   "cell_type": "code",
   "execution_count": null,
   "id": "06afe27d-8f63-4b20-bd81-fa5876366634",
   "metadata": {},
   "outputs": [],
   "source": [
    "session.load_physio_recordings_data()"
   ]
  },
  {
   "cell_type": "markdown",
   "id": "14a7dc32-78ff-4f18-a9bf-a508c0dbd11d",
   "metadata": {
    "vscode": {
     "languageId": "markdown"
    }
   },
   "source": [
    "# Data processing\n",
    "\n",
    "In this cell, we are preprocessing the physiological recordings for each participant in the session. By calling `session.process_physio_recordings()`, we apply a series of cleaning and standardization steps to the raw data, such as filtering, artifact removal, and normalization. This preprocessing ensures that the physiological signals are of high quality and suitable for further analysis, such as segmentation and feature extraction."
   ]
  },
  {
   "cell_type": "code",
   "execution_count": null,
   "id": "db0cad21-b4c9-4d6b-b49c-f1b7cdd9c708",
   "metadata": {},
   "outputs": [],
   "source": [
    "session.process_physio_recordings()"
   ]
  },
  {
   "cell_type": "markdown",
   "id": "b8b82976-6267-4e7e-b3d1-cb189085c9f5",
   "metadata": {
    "vscode": {
     "languageId": "markdown"
    }
   },
   "source": [
    "# Segmenting data\n",
    "\n",
    "In the following cell, we are segmenting the preprocessed physiological recordings into fixed-duration epochs. By calling `session.epoch_physio_recordings(method = \"fixed_duration\", duration = 30, overlap = 0)`, we divide each participant's physiological data into consecutive, non-overlapping segments of 30 seconds each. This segmentation facilitates time-based analysis of physiological responses and enables comparison of signal features across consistent time intervals.\n",
    "\n",
    "In addition to fixed-duration segmentation, the `session.epoch_physio_recordings()` method supports other epoching strategies:\n",
    "\n",
    "- **Fixed Number of Epochs:**  \n",
    "    By specifying `method = \"fixed_number\"` and providing `n_epochs`, the data for each participant is divided into a set number of equally sized epochs. This is useful when you want to compare segments of equal count across recordings, regardless of their absolute duration.\n",
    "\n",
    "    ```python\n",
    "    session.epoch_physio_recordings(method = \"fixed_number\", n_epochs = 30)\n",
    "    ```\n",
    "\n",
    "- **Sliding Window Epochs:**  \n",
    "    Using `method = \"sliding_window\"` with parameters like `duration` (window length) and `step` (stride), the data is segmented into overlapping windows. This approach allows for more granular, continuous analysis of physiological changes over time.\n",
    "\n",
    "    ```python\n",
    "    session.epoch_physio_recordings(method = \"sliding_window\", duration = 30, step = 5)\n",
    "    ```\n",
    "\n",
    "Each method provides a different perspective on the data, enabling flexible analysis tailored to specific research questions."
   ]
  },
  {
   "cell_type": "code",
   "execution_count": null,
   "id": "bef369c4-7ea4-424d-9c6d-9b131727f1ba",
   "metadata": {},
   "outputs": [],
   "source": [
    "session.epoch_physio_recordings(method = \"fixed_duration\", duration = 30, overlap = 0)\n",
    "#session.epoch_physio_recordings(method = \"fixed_number\", n_epochs = 30)\n",
    "#session.epoch_physio_recordings(method = \"sliding_window\", duration = 30, step = 5)"
   ]
  },
  {
   "cell_type": "markdown",
   "id": "1a8c99c1-7ac0-4720-936b-028c9eb88707",
   "metadata": {
    "vscode": {
     "languageId": "markdown"
    }
   },
   "source": [
    "# Save processed session in a file\n",
    "\n",
    "This cell saves the processed session object to a pickle file. It ensures the output directory exists, then serializes the `session` object for future use or analysis."
   ]
  },
  {
   "cell_type": "code",
   "execution_count": null,
   "id": "cb53a6f6-24f7-4b3c-9855-c1287ef91639",
   "metadata": {},
   "outputs": [],
   "source": [
    "session_pathname = Path(f\"../data/output/processed/session_{SESSION_ID}_family_{FAMILY_ID}_seance_{SEANCE_ID}.pkl\")\n",
    "if not session_pathname.parent.exists():\n",
    "    os.makedirs(session_pathname.parent)\n",
    "\n",
    "with open(session_pathname, \"wb\") as f:\n",
    "    pickle.dump(session, f)\n",
    "print(f\"Session saved to {session_pathname}\")"
   ]
  }
 ],
 "metadata": {
  "kernelspec": {
   "display_name": "Python 3 (ipykernel)",
   "language": "python",
   "name": "python3"
  },
  "language_info": {
   "codemirror_mode": {
    "name": "ipython",
    "version": 3
   },
   "file_extension": ".py",
   "mimetype": "text/x-python",
   "name": "python",
   "nbconvert_exporter": "python",
   "pygments_lexer": "ipython3",
   "version": "3.12.9"
  }
 },
 "nbformat": 4,
 "nbformat_minor": 5
}
