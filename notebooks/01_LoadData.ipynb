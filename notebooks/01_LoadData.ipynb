{
 "cells": [
  {
   "cell_type": "code",
   "execution_count": null,
   "id": "eb8ca9de-b5bf-4b6d-b095-9e8da061f3e6",
   "metadata": {},
   "outputs": [],
   "source": [
    "import sys\n",
    "sys.path.append('../src/')\n",
    "\n",
    "import warnings\n",
    "#warnings.filterwarnings('ignore')  # Suppress warnings for cleaner output\n",
    "\n",
    "from pathlib import Path\n",
    "import json\n",
    "import os\n",
    "\n",
    "from subject import Subject\n",
    "from physio_recording import PhysioRecording\n",
    "from session import Session\n",
    "from helpers import *"
   ]
  },
  {
   "cell_type": "code",
   "execution_count": null,
   "id": "389d23e0-2413-43c0-b318-530cd1a408cd",
   "metadata": {},
   "outputs": [],
   "source": [
    "coi_structure_pathname = Path(\"../data/coi_structure.json\")\n",
    "\n",
    "if not coi_structure_pathname.exists():\n",
    "    raise FileNotFoundError(\"The COI structure file does not exist\")\n",
    "\n",
    "with open(coi_structure_pathname, \"r\") as f:\n",
    "    coi_structure = json.load(f)"
   ]
  },
  {
   "cell_type": "code",
   "execution_count": null,
   "id": "dbadface-2c99-4426-8aea-136748c08f2e",
   "metadata": {},
   "outputs": [],
   "source": [
    "FAMILY_ID = 4\n",
    "SEANCE_ID = 1\n",
    "SESSION_ID = 0\n",
    "\n",
    "session = Session(session_id = SESSION_ID, family_id = FAMILY_ID, seance_id = SEANCE_ID)\n",
    "\n",
    "subjects: [Subject] = []\n",
    "\n",
    "subjects.append(Subject(id = 0, role_id = 0, role_desc = \"THERAPIST\"))\n",
    "subjects.append(Subject(id = 1, role_id = 1, role_desc = \"MOTHER\"))\n",
    "subjects.append(Subject(id = 2, role_id = 2, role_desc = \"CHILD\"))\n",
    "\n",
    "for subject in subjects:\n",
    "    physio_recording = PhysioRecording(subject_id = subject.id, session_id = SESSION_ID)\n",
    "    physio_filepath = extract_raw_pathname_from_coi_structure(\n",
    "        coi_structure = coi_structure,\n",
    "        FAMILY_ID = FAMILY_ID,\n",
    "        SEANCE_ID = SEANCE_ID,\n",
    "        ROLE_ID = subject.role_id)\n",
    "    physio_recording.set_physio_filepath(physio_filepath = physio_filepath)\n",
    "    session.add_physio_recording(physio_recording = physio_recording)"
   ]
  },
  {
   "cell_type": "code",
   "execution_count": null,
   "id": "06afe27d-8f63-4b20-bd81-fa5876366634",
   "metadata": {},
   "outputs": [],
   "source": [
    "session.load_physio_recordings_data()"
   ]
  },
  {
   "cell_type": "code",
   "execution_count": null,
   "id": "1b11c6be-bae8-4668-8455-fc7aa5a6fc03",
   "metadata": {},
   "outputs": [],
   "source": [
    "print(session.physio_recordings[0].eda[\"raw\"][\"rs\"].keys())\n",
    "print(session.physio_recordings[0].eda[\"raw\"][\"rs\"][\"sampling_rate\"])"
   ]
  },
  {
   "cell_type": "code",
   "execution_count": null,
   "id": "db0cad21-b4c9-4d6b-b49c-f1b7cdd9c708",
   "metadata": {},
   "outputs": [],
   "source": [
    "session.process_physio_recordings()"
   ]
  },
  {
   "cell_type": "code",
   "execution_count": null,
   "id": "743aa89e-afc2-40c6-a0b9-99bade5a97cf",
   "metadata": {},
   "outputs": [],
   "source": [
    "print(session.physio_recordings[0].eda[\"processed\"][\"rs\"].keys())\n",
    "print(session.physio_recordings[0].eda[\"processed\"][\"rs\"][\"sampling_rate\"])\n",
    "\n",
    "print(session.physio_recordings[0].bvp[\"processed\"][\"rs\"].keys())\n",
    "print(session.physio_recordings[0].bvp[\"processed\"][\"rs\"][\"sampling_rate\"])\n",
    "\n",
    "a = session.physio_recordings[0].eda[\"processed\"][\"session\"][\"EDA_Tonic\"]\n",
    "print(type(a), len(a), a[0])\n",
    "b = session.physio_recordings[0].bvp[\"processed\"][\"session\"][\"RR_Intervals\"]\n",
    "print(type(b), len(b), b[0])\n",
    "b = session.physio_recordings[0].bvp[\"processed\"][\"session\"][\"PPG_Clean\"]\n",
    "print(type(b), len(b), b[0])\n"
   ]
  },
  {
   "cell_type": "code",
   "execution_count": null,
   "id": "bef369c4-7ea4-424d-9c6d-9b131727f1ba",
   "metadata": {},
   "outputs": [],
   "source": [
    "session.epoch_physio_recordings(method = \"fixed_duration\", duration = 30, overlap = 0)"
   ]
  },
  {
   "cell_type": "code",
   "execution_count": null,
   "id": "0fc71e2c-b714-4a3c-b879-f039992482a3",
   "metadata": {},
   "outputs": [],
   "source": [
    "for physio_recording in session.physio_recordings:\n",
    "    print(f\"Epoched data for {physio_recording.subject_id}\") \n",
    "    print(f\"\\tEDA keys: {physio_recording.eda['epochs']['session'].keys()}\")\n",
    "    for key in physio_recording.eda[\"epochs\"][\"session\"].keys():\n",
    "        print(f\"\\t\\tNumber of epochs for key {key}: {len(physio_recording.eda['epochs']['session'][key])}\")\n",
    "    \n",
    "    print(f\"\\tBVP keys: {physio_recording.eda['epochs']['session'].keys()}\")\n",
    "    for key in physio_recording.bvp[\"epochs\"][\"session\"].keys():\n",
    "        print(f\"\\t\\tNumber of epochs for key {key}: {len(physio_recording.bvp['epochs']['session'][key])}\")"
   ]
  },
  {
   "cell_type": "code",
   "execution_count": null,
   "id": "6c611cd4-f988-4f7c-bd93-6b7ae188bb93",
   "metadata": {},
   "outputs": [],
   "source": [
    "session.epoch_physio_recordings(method = \"fixed_number\", n_epochs = 30)"
   ]
  },
  {
   "cell_type": "code",
   "execution_count": null,
   "id": "b3fbd015-7696-4be6-8a96-32ee3b3e7a28",
   "metadata": {},
   "outputs": [],
   "source": [
    "for physio_recording in session.physio_recordings:\n",
    "    print(f\"Epoched data for {physio_recording.subject_id}\") \n",
    "    print(f\"\\tEDA keys: {physio_recording.eda['epochs']['session'].keys()}\")\n",
    "    for key in physio_recording.eda[\"epochs\"][\"session\"].keys():\n",
    "        print(f\"\\t\\tNumber of epochs for key {key}: {len(physio_recording.eda['epochs']['session'][key])}\")\n",
    "    \n",
    "    print(f\"\\tBVP keys: {physio_recording.eda['epochs']['session'].keys()}\")\n",
    "    for key in physio_recording.bvp[\"epochs\"][\"session\"].keys():\n",
    "        print(f\"\\t\\tNumber of epochs for key {key}: {len(physio_recording.bvp['epochs']['session'][key])}\")"
   ]
  },
  {
   "cell_type": "code",
   "execution_count": null,
   "id": "cb53a6f6-24f7-4b3c-9855-c1287ef91639",
   "metadata": {},
   "outputs": [],
   "source": [
    "session.epoch_physio_recordings(method = \"sliding_window\", duration = 30, step = 5)"
   ]
  },
  {
   "cell_type": "code",
   "execution_count": null,
   "id": "7bc070c2-de3d-4cfc-94ac-5d18d1398c54",
   "metadata": {},
   "outputs": [],
   "source": [
    "for physio_recording in session.physio_recordings:\n",
    "    print(f\"Epoched data for {physio_recording.subject_id}\") \n",
    "    print(f\"\\tEDA keys: {physio_recording.eda['epochs']['session'].keys()}\")\n",
    "    for key in physio_recording.eda[\"epochs\"][\"session\"].keys():\n",
    "        print(f\"\\t\\tNumber of epochs for key {key}: {len(physio_recording.eda['epochs']['session'][key])}\")\n",
    "    \n",
    "    print(f\"\\tBVP keys: {physio_recording.eda['epochs']['session'].keys()}\")\n",
    "    for key in physio_recording.bvp[\"epochs\"][\"session\"].keys():\n",
    "        print(f\"\\t\\tNumber of epochs for key {key}: {len(physio_recording.bvp['epochs']['session'][key])}\")"
   ]
  },
  {
   "cell_type": "code",
   "execution_count": null,
   "id": "ad5623ef-c154-42a4-ae05-0bef0fbff0ed",
   "metadata": {},
   "outputs": [],
   "source": []
  }
 ],
 "metadata": {
  "kernelspec": {
   "display_name": "Python 3 (ipykernel)",
   "language": "python",
   "name": "python3"
  },
  "language_info": {
   "codemirror_mode": {
    "name": "ipython",
    "version": 3
   },
   "file_extension": ".py",
   "mimetype": "text/x-python",
   "name": "python",
   "nbconvert_exporter": "python",
   "pygments_lexer": "ipython3",
   "version": "3.12.9"
  }
 },
 "nbformat": 4,
 "nbformat_minor": 5
}
