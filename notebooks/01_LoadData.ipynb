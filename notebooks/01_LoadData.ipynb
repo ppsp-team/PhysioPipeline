{
 "cells": [
  {
   "cell_type": "code",
   "execution_count": 1,
   "id": "eb8ca9de-b5bf-4b6d-b095-9e8da061f3e6",
   "metadata": {},
   "outputs": [],
   "source": [
    "import sys\n",
    "sys.path.append('../src/')\n",
    "\n",
    "import warnings\n",
    "#warnings.filterwarnings('ignore')  # Suppress warnings for cleaner output\n",
    "\n",
    "from pathlib import Path\n",
    "import json\n",
    "import os\n",
    "\n",
    "from subject import Subject\n",
    "from physio_recording import PhysioRecording\n",
    "from session import Session\n",
    "from helpers import *"
   ]
  },
  {
   "cell_type": "code",
   "execution_count": 2,
   "id": "389d23e0-2413-43c0-b318-530cd1a408cd",
   "metadata": {},
   "outputs": [],
   "source": [
    "coi_structure_pathname = Path(\"../data/coi_structure.json\")\n",
    "\n",
    "if not coi_structure_pathname.exists():\n",
    "    raise FileNotFoundError(\"The COI structure file does not exist\")\n",
    "\n",
    "with open(coi_structure_pathname, \"r\") as f:\n",
    "    coi_structure = json.load(f)"
   ]
  },
  {
   "cell_type": "code",
   "execution_count": 3,
   "id": "dbadface-2c99-4426-8aea-136748c08f2e",
   "metadata": {},
   "outputs": [],
   "source": [
    "FAMILY_ID = 4\n",
    "SEANCE_ID = 2\n",
    "SESSION_ID = 0\n",
    "\n",
    "session = Session(session_id = SESSION_ID, family_id = FAMILY_ID, seance_id = SEANCE_ID)\n",
    "\n",
    "subjects: [Subject] = []\n",
    "\n",
    "subjects.append(Subject(id = 0, role_id = 0, role_desc = \"THERAPIST\"))\n",
    "subjects.append(Subject(id = 1, role_id = 1, role_desc = \"MOTHER\"))\n",
    "subjects.append(Subject(id = 2, role_id = 2, role_desc = \"CHILD\"))\n",
    "\n",
    "for subject in subjects:\n",
    "    physio_recording = PhysioRecording(subject_id = subject.id, session_id = SESSION_ID)\n",
    "    physio_filepath = extract_raw_pathname_from_coi_structure(\n",
    "        coi_structure = coi_structure,\n",
    "        FAMILY_ID = FAMILY_ID,\n",
    "        SEANCE_ID = SEANCE_ID,\n",
    "        ROLE_ID = subject.role_id)\n",
    "    physio_recording.set_physio_filepath(physio_filepath = physio_filepath)\n",
    "    session.add_physio_recording(physio_recording = physio_recording)"
   ]
  },
  {
   "cell_type": "code",
   "execution_count": 4,
   "id": "06afe27d-8f63-4b20-bd81-fa5876366634",
   "metadata": {},
   "outputs": [
    {
     "name": "stdout",
     "output_type": "stream",
     "text": [
      "Loading physio recordings for session 0, family 4, seance 2...\n",
      "\tLoading raw data for session 0 and subject 0\n",
      "\t\tLoaded resting state Temperature data from TEMP_rs with 239 samples at 4 Hz.\n",
      "\t\tLoaded session Temperature data from TEMP_session with 16115 samples at 4 Hz.\n",
      "\t\tLoaded resting state EDA data from EDA_rs with 239 samples at 4 Hz.\n",
      "\t\tLoaded session EDA data from EDA_session with 16117 samples at 4 Hz.\n",
      "\t\tLoaded resting state BVP data from BVP_rs with 3839 samples at 64 Hz.\n",
      "\t\tLoaded session BVP data from BVP_session with 257917 samples at 64 Hz.\n",
      "\tLoading raw data for session 0 and subject 1\n",
      "\t\tLoaded resting state Temperature data from TEMP_rs with 0 samples at 4 Hz.\n",
      "\t\tLoaded session Temperature data from TEMP_session with 16131 samples at 4 Hz.\n",
      "\t\tLoaded resting state EDA data from EDA_rs with 239 samples at 4 Hz.\n",
      "\t\tLoaded session EDA data from EDA_session with 15887 samples at 4 Hz.\n",
      "\t\tLoaded resting state BVP data from BVP_rs with 3839 samples at 64 Hz.\n",
      "\t\tLoaded session BVP data from BVP_session with 254244 samples at 64 Hz.\n",
      "\tLoading raw data for session 0 and subject 2\n",
      "\t\tLoaded resting state Temperature data from TEMP_rs with 239 samples at 4 Hz.\n",
      "\t\tLoaded session Temperature data from TEMP_session with 16119 samples at 4 Hz.\n",
      "\t\tLoaded resting state EDA data from EDA_rs with 239 samples at 4 Hz.\n",
      "\t\tLoaded session EDA data from EDA_session with 16117 samples at 4 Hz.\n",
      "\t\tLoaded resting state BVP data from BVP_rs with 3839 samples at 64 Hz.\n",
      "\t\tLoaded session BVP data from BVP_session with 257924 samples at 64 Hz.\n"
     ]
    }
   ],
   "source": [
    "session.load_physio_recordings_data()"
   ]
  },
  {
   "cell_type": "code",
   "execution_count": 5,
   "id": "1b11c6be-bae8-4668-8455-fc7aa5a6fc03",
   "metadata": {},
   "outputs": [
    {
     "name": "stdout",
     "output_type": "stream",
     "text": [
      "dict_keys(['sampling_rate', 'nb_channels', 'nb_samples', 'duration', 'data'])\n",
      "4\n"
     ]
    }
   ],
   "source": [
    "print(session.physio_recordings[0].eda[\"raw\"][\"rs\"].keys())\n",
    "print(session.physio_recordings[0].eda[\"raw\"][\"rs\"][\"sampling_rate\"])"
   ]
  },
  {
   "cell_type": "code",
   "execution_count": null,
   "id": "db0cad21-b4c9-4d6b-b49c-f1b7cdd9c708",
   "metadata": {},
   "outputs": [
    {
     "name": "stdout",
     "output_type": "stream",
     "text": [
      "Processing physio recordings for session 0, family 4, seance 2...\n",
      "\tProcessing physio data for subject 0 and session 0...\n",
      "\t\tProcessing EDA data... \n",
      "\t\tCleaned EDA resting state data with 239 samples at 4 Hz.\n",
      "\t\tCleaned EDA session data with 16117 samples at 4 Hz.\n",
      "\t\tResampled EDA resting state data to 64 Hz with 3824 samples.\n",
      "\t\tResampled EDA session data to 64 Hz with 257872 samples.\n"
     ]
    },
    {
     "name": "stderr",
     "output_type": "stream",
     "text": [
      "/Users/blackstar/PPSP/02 - Dev/021 - Physiological Pipeline/PhysioPipeline/.venv/lib/python3.12/site-packages/neurokit2/eda/eda_clean.py:105: NeuroKitWarning: EDA signal is sampled at very low frequency. Skipping filtering.\n",
      "  warn(\n"
     ]
    },
    {
     "name": "stdout",
     "output_type": "stream",
     "text": [
      "\t\tProcessed EDA resting state data with 239 samples at 4 Hz.\n",
      "\t\tProcessed EDA session data with 16117 samples at 4 Hz.\n",
      "\t\tProcessing BVP data...\n",
      "\t\tProcessed BVP resting state data with 3839 samples at 64 Hz.\n",
      "\t\tProcessed BVP session data with 257917 samples at 64 Hz.\n",
      "\t\tProcessing Temperature data... not implemented yet ...\n",
      "\tProcessing physio data for subject 1 and session 0...\n",
      "\t\tProcessing EDA data... \n",
      "\t\tCleaned EDA resting state data with 239 samples at 4 Hz.\n",
      "\t\tCleaned EDA session data with 15887 samples at 4 Hz.\n",
      "\t\tResampled EDA resting state data to 64 Hz with 3824 samples.\n",
      "\t\tResampled EDA session data to 64 Hz with 254192 samples.\n"
     ]
    },
    {
     "name": "stderr",
     "output_type": "stream",
     "text": [
      "/Users/blackstar/PPSP/02 - Dev/021 - Physiological Pipeline/PhysioPipeline/.venv/lib/python3.12/site-packages/neurokit2/eda/eda_clean.py:105: NeuroKitWarning: EDA signal is sampled at very low frequency. Skipping filtering.\n",
      "  warn(\n"
     ]
    },
    {
     "name": "stdout",
     "output_type": "stream",
     "text": [
      "\t\tProcessed EDA resting state data with 239 samples at 4 Hz.\n",
      "\t\tProcessed EDA session data with 15887 samples at 4 Hz.\n",
      "\t\tProcessing BVP data...\n",
      "\t\tProcessed BVP resting state data with 3839 samples at 64 Hz.\n",
      "\t\tProcessed BVP session data with 254244 samples at 64 Hz.\n",
      "\t\tProcessing Temperature data... not implemented yet ...\n",
      "\tProcessing physio data for subject 2 and session 0...\n",
      "\t\tProcessing EDA data... \n",
      "\t\tCleaned EDA resting state data with 239 samples at 4 Hz.\n",
      "\t\tCleaned EDA session data with 16117 samples at 4 Hz.\n",
      "\t\tResampled EDA resting state data to 64 Hz with 3824 samples.\n",
      "\t\tResampled EDA session data to 64 Hz with 257872 samples.\n"
     ]
    },
    {
     "name": "stderr",
     "output_type": "stream",
     "text": [
      "/Users/blackstar/PPSP/02 - Dev/021 - Physiological Pipeline/PhysioPipeline/.venv/lib/python3.12/site-packages/neurokit2/eda/eda_clean.py:105: NeuroKitWarning: EDA signal is sampled at very low frequency. Skipping filtering.\n",
      "  warn(\n"
     ]
    }
   ],
   "source": [
    "session.process_physio_recordings()"
   ]
  },
  {
   "cell_type": "code",
   "execution_count": null,
   "id": "743aa89e-afc2-40c6-a0b9-99bade5a97cf",
   "metadata": {},
   "outputs": [],
   "source": [
    "print(session.physio_recordings[0].eda[\"processed\"][\"rs\"].keys())\n",
    "print(session.physio_recordings[0].eda[\"processed\"][\"rs\"][\"sampling_rate\"])\n",
    "\n",
    "print(session.physio_recordings[0].bvp[\"processed\"][\"rs\"].keys())\n",
    "print(session.physio_recordings[0].bvp[\"processed\"][\"rs\"][\"sampling_rate\"])"
   ]
  },
  {
   "cell_type": "code",
   "execution_count": null,
   "id": "58119550-cf1a-4c7a-b1fb-054bcb2eb926",
   "metadata": {},
   "outputs": [],
   "source": [
    "session.extract_physio_features()"
   ]
  },
  {
   "cell_type": "code",
   "execution_count": null,
   "id": "386e932a-88b9-4d7c-8502-21730b816dea",
   "metadata": {},
   "outputs": [],
   "source": []
  }
 ],
 "metadata": {
  "kernelspec": {
   "display_name": "Python 3 (ipykernel)",
   "language": "python",
   "name": "python3"
  },
  "language_info": {
   "codemirror_mode": {
    "name": "ipython",
    "version": 3
   },
   "file_extension": ".py",
   "mimetype": "text/x-python",
   "name": "python",
   "nbconvert_exporter": "python",
   "pygments_lexer": "ipython3",
   "version": "3.12.9"
  }
 },
 "nbformat": 4,
 "nbformat_minor": 5
}
